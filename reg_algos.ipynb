{
 "cells": [
  {
   "cell_type": "code",
   "execution_count": null,
   "metadata": {},
   "outputs": [],
   "source": [
    "import pandas as pd\n",
    "from sklearn.linear_model import LogisticRegressionCV\n",
    "from sklearn.preprocessing import StandardScaler"
   ]
  },
  {
   "cell_type": "code",
   "execution_count": null,
   "metadata": {},
   "outputs": [],
   "source": [
    "# Retrieve Training and Testing Data \n",
    "df_train = pd.read_csv('data/trainClean.csv')\n",
    "df_test = pd.read_csv('data/testClean.csv')"
   ]
  },
  {
   "cell_type": "code",
   "execution_count": null,
   "metadata": {},
   "outputs": [],
   "source": [
    "X_train = df_train.drop(columns='Transported')\n",
    "y_train = df_train['Transported']"
   ]
  },
  {
   "cell_type": "code",
   "execution_count": null,
   "metadata": {},
   "outputs": [],
   "source": [
    "lr = LogisticRegressionCV(n_jobs=-1)\n",
    "lr.fit(X_train, y_train)\n",
    "\n",
    "pred = lr.predict(df_test)\n",
    "pred"
   ]
  },
  {
   "cell_type": "code",
   "execution_count": null,
   "metadata": {},
   "outputs": [],
   "source": [
    "tfMap = { 0: False, 1: True }\n",
    "\n",
    "kaggleCSV = pd.DataFrame(columns=['PassengerId', 'Transported'])\n",
    "kaggleCSV['PassengerId'] = df_test['PassengerId']\n",
    "kaggleCSV['Transported'] = [tfMap[i] for i in pred]\n",
    "\n",
    "kaggleCSV.to_csv('results/example_results.csv', index=False)"
   ]
  }
 ],
 "metadata": {
  "language_info": {
   "name": "python"
  }
 },
 "nbformat": 4,
 "nbformat_minor": 2
}
